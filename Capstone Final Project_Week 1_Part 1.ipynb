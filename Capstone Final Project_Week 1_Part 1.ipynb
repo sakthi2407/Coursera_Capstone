{
    "cells": [
        {
            "cell_type": "markdown",
            "metadata": {
                "collapsed": true
            },
            "source": "# Introduction & Business Problem:\n\n## Business Problem:\n\nIn this project we will try to find an optimal location for opening a Indian restaurant in New York. This report will be targeted towards people who are interested in opening a new Indian restaurant in New York.\n\nSince there are lots of Indian restaurants in New York, we will try to detect locations that are not already crowded with Indian restaurants or the ones where the ratings for the existing restaurants are low. We are also particularly interested in areas with minimum or no Indian restaurants in vicinity\n\nWe will use data science methodoly and techniques to arrive at an optimal location for opening the restaurant. This will ensure ROI of the investment by reducing risk of high competition and increasing the footfall (inturn the revenue)\n\n## Background:\n\nThe City of New York is famous for its array of international cuisines influenced by the city's immigrant history . The Indian population in New York City is over 650,000. Indians, the second largest Asian group in the city, comprised 20.5 percent of the Asian population. By borough, 65 percent of Indian New Yorkers lived in Queens, 12 percent in Manhattan, 12 percent in Brooklyn, 6.5 percent in the Bronx, and 5 percent in Staten Island. Neighborhoods with large Indian populations included South Ozone Park, Richmond Hill, Jackson Heights, Jamaica, Bellerose, Queens Village, Glen Oaks-Floral Park-New Hyde Park, Briarwood - Jamaica Hill, Elmhurst, and Flushing in Queens\n\nIndians in New York City had higher median household and median family incomes than the general population. Indian median household income of USD 62,775 was higher than the citywide figure of USD 50,331. Median family income for Indians of USD 62,911 was above the citywide median family income of USD 55,434. Indian per capita income of USD 29,540 was close to the citywide figure of USD 30,717.\n\nGiven this background it is really an interesting proposition to open an Indian restaurant in New York, as it would make business sense and value\n\n## But where do we open? Lets explore\n\n"
        }
    ],
    "metadata": {
        "kernelspec": {
            "display_name": "Python 3.6",
            "language": "python",
            "name": "python3"
        },
        "language_info": {
            "codemirror_mode": {
                "name": "ipython",
                "version": 3
            },
            "file_extension": ".py",
            "mimetype": "text/x-python",
            "name": "python",
            "nbconvert_exporter": "python",
            "pygments_lexer": "ipython3",
            "version": "3.6.9"
        }
    },
    "nbformat": 4,
    "nbformat_minor": 1
}