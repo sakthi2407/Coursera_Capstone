{
    "cells": [
        {
            "cell_type": "markdown",
            "metadata": {
                "collapsed": true
            },
            "source": "# Introduction & Business Problem:\n\n## Business Problem:\n\nIn this project we will try to find an optimal location for opening a Indian restaurant in New York. This report will be targeted towards people who are interested in opening a new Indian restaurant in New York.\n\nSince there are lots of restaurants in New York we will try to detect locations that are not already crowded with restaurants. We are also particularly interested in areas with no Indian restaurants in vicinity. We would also prefer locations as close to city center as possible along with the above conditions\n\nWe will use the data science technique learned over the Certification program to arrive at an optimal solution for the stakeholders wishing to open an Indian restaurant in New York\n\n## Background:\n\nThe City of New York is famous for its array of international cuisines influenced by the city's immigrant history . The Indian population in New York City is over 650,000. Indians, the second largest Asian group in the city, comprised 20.5 percent of the Asian population. By borough, 65 percent of Indian New Yorkers lived in Queens, 12 percent in Manhattan, 12 percent in Brooklyn, 6.5 percent in the Bronx, and 5 percent in Staten Island.2 The percent of Indians rose from 10.5 percent in 2008 in Manhattan, and increased from 3 percent in 2008 in Staten Island. Neighborhoods with large Indian populations included South Ozone Park, Richmond Hill, Jackson Heights, Jamaica, Bellerose, Queens Village, Glen Oaks-Floral Park-New Hyde Park, Briarwood - Jamaica Hill, Elmhurst, and Flushing in Queens\n\nIndians in New York City had higher median household and median family incomes than the general population.8 Indian median household income of USD 62,775 was higher than the citywide figure of USD 50,331. Median family income for Indians of USD 62,911 was above the citywide median family income of USD 55,434. Indian per capita income of USD 29,540 was close to the citywide figure of USD 30,717.\n\n## Hence opening a restaurant would really make sense based on the above statistics. But where do we open? Lets explore\n\n"
        }
    ],
    "metadata": {
        "kernelspec": {
            "display_name": "Python 3.6",
            "language": "python",
            "name": "python3"
        },
        "language_info": {
            "codemirror_mode": {
                "name": "ipython",
                "version": 3
            },
            "file_extension": ".py",
            "mimetype": "text/x-python",
            "name": "python",
            "nbconvert_exporter": "python",
            "pygments_lexer": "ipython3",
            "version": "3.6.9"
        }
    },
    "nbformat": 4,
    "nbformat_minor": 1
}