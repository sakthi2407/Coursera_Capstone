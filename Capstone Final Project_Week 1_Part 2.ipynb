{
    "cells": [
        {
            "cell_type": "markdown",
            "metadata": {
                "collapsed": true
            },
            "source": "## Data for the project\n\n### Based on our Business problem, the following factors will influence the decision making:\n\n1. All existing restaurants in the neighborhood\n2. Indian restaurants in the neighborhood, if any\n3. Distance of neighborhood from city center\n\n### We will use regularly spaced grid of locations, centered around city center, to define our neighborhoods\n\n### Following data sources will be needed to extract/generate the above required information:\n1. Number of existing restaurants and their type and location in every neighborhood will be obtained using Foursquare API\n2. Potential areas will be generated algorithmically and approximate addresses of centers of those areas will be obtained using Google Maps API reverse geocoding\n3. Coordinates for New York city center will be obtained using Google Maps API geocoding of centrally located Union Square, Manhattan\n"
        }
    ],
    "metadata": {
        "kernelspec": {
            "display_name": "Python 3.6",
            "language": "python",
            "name": "python3"
        },
        "language_info": {
            "codemirror_mode": {
                "name": "ipython",
                "version": 3
            },
            "file_extension": ".py",
            "mimetype": "text/x-python",
            "name": "python",
            "nbconvert_exporter": "python",
            "pygments_lexer": "ipython3",
            "version": "3.6.9"
        }
    },
    "nbformat": 4,
    "nbformat_minor": 1
}