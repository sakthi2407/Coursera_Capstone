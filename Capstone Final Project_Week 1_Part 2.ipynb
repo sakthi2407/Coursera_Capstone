{
    "cells": [
        {
            "cell_type": "markdown",
            "metadata": {
                "collapsed": true
            },
            "source": "## Data for the project\n\n### Based on our Business problem, the following factors will influence the decision making:\n\n1. All existing Indian restaurants in the neighborhood\n2. Ratings of the current Indian restaurants in various neighborhoods\n3. NYC Indian population concentration across boroughs\n\n### Following data sources will be needed to extract/generate the above required information:\n1. Demographics of NYC Data source: https://en.wikipedia.org/wiki/Demographics_of_New_York_City. Web scraping techniques will be used to get NYC\u2019s population demographics from Wikipedia\n2. Ratings and Number of existing Indian restaurants, their type and location in every neighborhood will be obtained using Foursquare API and https://cocl.us/new_york_dataset\n\nThe initial inference about of the market could be understood by web scraping the demographics data \n"
        },
        {
            "cell_type": "markdown",
            "metadata": {},
            "source": "## Web scraping to get NYC demographics data"
        },
        {
            "cell_type": "code",
            "execution_count": 1,
            "metadata": {},
            "outputs": [
                {
                    "name": "stdout",
                    "output_type": "stream",
                    "text": "Solving environment: done\n\n## Package Plan ##\n\n  environment location: /opt/conda/envs/Python36\n\n  added / updated specs: \n    - folium\n\n\nThe following packages will be downloaded:\n\n    package                    |            build\n    ---------------------------|-----------------\n    ca-certificates-2019.11.28 |       hecc5488_0         145 KB  conda-forge\n    branca-0.3.1               |             py_0          25 KB  conda-forge\n    vincent-0.4.4              |             py_1          28 KB  conda-forge\n    openssl-1.1.1d             |       h516909a_0         2.1 MB  conda-forge\n    folium-0.10.1              |             py_0          59 KB  conda-forge\n    certifi-2019.11.28         |           py36_0         149 KB  conda-forge\n    ------------------------------------------------------------\n                                           Total:         2.5 MB\n\nThe following NEW packages will be INSTALLED:\n\n    branca:          0.3.1-py_0        conda-forge\n    folium:          0.10.1-py_0       conda-forge\n    vincent:         0.4.4-py_1        conda-forge\n\nThe following packages will be UPDATED:\n\n    ca-certificates: 2019.11.27-0                  --> 2019.11.28-hecc5488_0 conda-forge\n    certifi:         2019.11.28-py36_0             --> 2019.11.28-py36_0     conda-forge\n\nThe following packages will be DOWNGRADED:\n\n    openssl:         1.1.1d-h7b6447c_3             --> 1.1.1d-h516909a_0     conda-forge\n\n\nDownloading and Extracting Packages\nca-certificates-2019 | 145 KB    | ##################################### | 100% \nbranca-0.3.1         | 25 KB     | ##################################### | 100% \nvincent-0.4.4        | 28 KB     | ##################################### | 100% \nopenssl-1.1.1d       | 2.1 MB    | ##################################### | 100% \nfolium-0.10.1        | 59 KB     | ##################################### | 100% \ncertifi-2019.11.28   | 149 KB    | ##################################### | 100% \nPreparing transaction: done\nVerifying transaction: done\nExecuting transaction: done\nLibraries imported\n"
                }
            ],
            "source": "import pandas as pd\nimport numpy as np\nimport requests\nfrom bs4 import BeautifulSoup\nfrom geopy.geocoders import Nominatim\n!conda install -c conda-forge folium\nimport os\nimport folium # map rendering library\n# Matplotlib and plotting libraries\nimport matplotlib.pyplot as plt\nimport matplotlib.cm as cm\nimport matplotlib.colors as colors\nimport matplotlib as mp\nimport re\nimport csv\n%matplotlib inline\n\nprint('Libraries imported')"
        },
        {
            "cell_type": "code",
            "execution_count": 3,
            "metadata": {},
            "outputs": [
                {
                    "name": "stdout",
                    "output_type": "stream",
                    "text": "[{'jurisdiction': 'Queens', 'population_census': '2,229,379', '%_white': 44.1, '%_black_or_african_amercian': 20.0, '%_Asian': 17.6, '%_other': 12.3, '%_mixed_race': 6.1, '%_hispanic_latino_of_other_race': 25.0, '%_catholic': 37.0, '%_jewish': 5.0}, {'jurisdiction': 'Manhattan', 'population_census': '1,537,195', '%_white': 54.4, '%_black_or_african_amercian': 17.4, '%_Asian': 9.4, '%_other': 14.7, '%_mixed_race': 4.1, '%_hispanic_latino_of_other_race': 27.2, '%_catholic': 11.0, '%_jewish': 9.0}, {'jurisdiction': 'Bronx', 'population_census': '1,332,650', '%_white': 29.9, '%_black_or_african_amercian': 35.6, '%_Asian': 3.0, '%_other': 25.7, '%_mixed_race': 5.8, '%_hispanic_latino_of_other_race': 48.4, '%_catholic': 14.0, '%_jewish': 5.0}, {'jurisdiction': 'Staten Island', 'population_census': '443,728', '%_white': 77.6, '%_black_or_african_amercian': 9.7, '%_Asian': 5.7, '%_other': 4.3, '%_mixed_race': 2.7, '%_hispanic_latino_of_other_race': 12.1, '%_catholic': 11.0, '%_jewish': 5.0}, {'jurisdiction': 'NYC Total', 'population_census': '8,008,278', '%_white': 44.7, '%_black_or_african_amercian': 26.6, '%_Asian': 9.8, '%_other': 14.0, '%_mixed_race': 4.9, '%_hispanic_latino_of_other_race': 27.0, '%_catholic': 17.0, '%_jewish': 6.0}]\n"
                }
            ],
            "source": "Demo_obj = requests.get('https://en.wikipedia.org/wiki/Demographics_of_New_York_City').text\nsoup = BeautifulSoup(Demo_obj,'lxml')\nNYC_Demo_Table = soup.select_one('.wikitable:nth-of-type(5)') #use css selector to target correct table.\n\njurisdictions = []\nrows = NYC_Demo_Table.select(\"tbody > tr\")[3:8]\nfor row in rows:\n    jurisdiction = {}\n    tds = row.select('td')\n    jurisdiction[\"jurisdiction\"] = tds[0].text.strip()\n    jurisdiction[\"population_census\"] = tds[1].text.strip()\n    jurisdiction[\"%_white\"] = float(tds[2].text.strip().replace(\",\",\"\"))\n    jurisdiction[\"%_black_or_african_amercian\"] = float(tds[3].text.strip().replace(\",\",\"\"))\n    jurisdiction[\"%_Asian\"] = float(tds[4].text.strip().replace(\",\",\"\"))\n    jurisdiction[\"%_other\"] = float(tds[5].text.strip().replace(\",\",\"\"))\n    jurisdiction[\"%_mixed_race\"] = float(tds[6].text.strip().replace(\",\",\"\"))\n    jurisdiction[\"%_hispanic_latino_of_other_race\"] = float(tds[7].text.strip().replace(\",\",\"\"))\n    jurisdiction[\"%_catholic\"] = float(tds[10].text.strip().replace(\",\",\"\"))\n    jurisdiction[\"%_jewish\"] = float(tds[12].text.strip().replace(\",\",\"\"))\n    jurisdictions.append(jurisdiction)\n\nprint(jurisdictions)"
        },
        {
            "cell_type": "code",
            "execution_count": 4,
            "metadata": {},
            "outputs": [
                {
                    "data": {
                        "text/html": "<div>\n<style scoped>\n    .dataframe tbody tr th:only-of-type {\n        vertical-align: middle;\n    }\n\n    .dataframe tbody tr th {\n        vertical-align: top;\n    }\n\n    .dataframe thead th {\n        text-align: right;\n    }\n</style>\n<table border=\"1\" class=\"dataframe\">\n  <thead>\n    <tr style=\"text-align: right;\">\n      <th></th>\n      <th>jurisdiction</th>\n      <th>%_white</th>\n      <th>%_black_or_african_amercian</th>\n      <th>%_Asian</th>\n      <th>%_other</th>\n      <th>%_mixed_race</th>\n      <th>%_hispanic_latino_of_other_race</th>\n    </tr>\n  </thead>\n  <tbody>\n    <tr>\n      <th>0</th>\n      <td>Queens</td>\n      <td>44.1</td>\n      <td>20.0</td>\n      <td>17.6</td>\n      <td>12.3</td>\n      <td>6.1</td>\n      <td>25.0</td>\n    </tr>\n    <tr>\n      <th>1</th>\n      <td>Manhattan</td>\n      <td>54.4</td>\n      <td>17.4</td>\n      <td>9.4</td>\n      <td>14.7</td>\n      <td>4.1</td>\n      <td>27.2</td>\n    </tr>\n    <tr>\n      <th>2</th>\n      <td>Bronx</td>\n      <td>29.9</td>\n      <td>35.6</td>\n      <td>3.0</td>\n      <td>25.7</td>\n      <td>5.8</td>\n      <td>48.4</td>\n    </tr>\n    <tr>\n      <th>3</th>\n      <td>Staten Island</td>\n      <td>77.6</td>\n      <td>9.7</td>\n      <td>5.7</td>\n      <td>4.3</td>\n      <td>2.7</td>\n      <td>12.1</td>\n    </tr>\n    <tr>\n      <th>4</th>\n      <td>NYC Total</td>\n      <td>44.7</td>\n      <td>26.6</td>\n      <td>9.8</td>\n      <td>14.0</td>\n      <td>4.9</td>\n      <td>27.0</td>\n    </tr>\n  </tbody>\n</table>\n</div>",
                        "text/plain": "    jurisdiction  %_white  %_black_or_african_amercian  %_Asian  %_other  \\\n0         Queens     44.1                         20.0     17.6     12.3   \n1      Manhattan     54.4                         17.4      9.4     14.7   \n2          Bronx     29.9                         35.6      3.0     25.7   \n3  Staten Island     77.6                          9.7      5.7      4.3   \n4      NYC Total     44.7                         26.6      9.8     14.0   \n\n   %_mixed_race  %_hispanic_latino_of_other_race  \n0           6.1                             25.0  \n1           4.1                             27.2  \n2           5.8                             48.4  \n3           2.7                             12.1  \n4           4.9                             27.0  "
                    },
                    "execution_count": 4,
                    "metadata": {},
                    "output_type": "execute_result"
                }
            ],
            "source": "df = pd.DataFrame(jurisdictions, columns=[\"jurisdiction\",\"%_white\", \"%_black_or_african_amercian\", \"%_Asian\", \"%_other\", \"%_mixed_race\", \"%_hispanic_latino_of_other_race\"])\ndf.head()"
        },
        {
            "cell_type": "markdown",
            "metadata": {},
            "source": "### So, this gives an overview of the demographics and our area of interest would be the % Asian population. From the table, the following can be inferred\n1. Queens has the highest Asian demographics followed by Manhattan -Also from the background understanding about the project, we found that Queens has 65% of the Indians in NYC\n2. So this gives a strong indication of Indian population concentration \n## But without being carried away with the initial findings we will explore further neighbouhood datasets and arrive at a conclusion"
        },
        {
            "cell_type": "code",
            "execution_count": null,
            "metadata": {},
            "outputs": [],
            "source": "This ends this assignment. Will explore the neighbourhoods and arrive at conclusions in the week "
        }
    ],
    "metadata": {
        "kernelspec": {
            "display_name": "Python 3.6",
            "language": "python",
            "name": "python3"
        },
        "language_info": {
            "codemirror_mode": {
                "name": "ipython",
                "version": 3
            },
            "file_extension": ".py",
            "mimetype": "text/x-python",
            "name": "python",
            "nbconvert_exporter": "python",
            "pygments_lexer": "ipython3",
            "version": "3.6.9"
        }
    },
    "nbformat": 4,
    "nbformat_minor": 1
}